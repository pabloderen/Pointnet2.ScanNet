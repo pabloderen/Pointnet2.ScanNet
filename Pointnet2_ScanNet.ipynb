{
  "nbformat": 4,
  "nbformat_minor": 0,
  "metadata": {
    "colab": {
      "name": "Pointnet2.ScanNet.ipynb",
      "provenance": [],
      "collapsed_sections": [],
      "toc_visible": true,
      "authorship_tag": "ABX9TyOzo0Dg+0YVfB4DP0iYBStR",
      "include_colab_link": true
    },
    "kernelspec": {
      "name": "python3",
      "display_name": "Python 3"
    },
    "accelerator": "GPU"
  },
  "cells": [
    {
      "cell_type": "markdown",
      "metadata": {
        "id": "view-in-github",
        "colab_type": "text"
      },
      "source": [
        "<a href=\"https://colab.research.google.com/github/pabloderen/Pointnet2.ScanNet/blob/master/Pointnet2_ScanNet.ipynb\" target=\"_parent\"><img src=\"https://colab.research.google.com/assets/colab-badge.svg\" alt=\"Open In Colab\"/></a>"
      ]
    },
    {
      "cell_type": "markdown",
      "metadata": {
        "id": "lwKUncnH8Fx-",
        "colab_type": "text"
      },
      "source": [
        "##Clone repo"
      ]
    },
    {
      "cell_type": "code",
      "metadata": {
        "id": "HTzDiFLQCXtI",
        "colab_type": "code",
        "colab": {
          "base_uri": "https://localhost:8080/",
          "height": 169
        },
        "outputId": "157a2867-d1f1-439e-b1d6-0b2401d8cc2b"
      },
      "source": [
        "%tensorflow_version 1.x\n",
        "!git clone https://github.com/pabloderen/Pointnet2.ScanNet.git"
      ],
      "execution_count": 3,
      "outputs": [
        {
          "output_type": "stream",
          "text": [
            "TensorFlow 1.x selected.\n",
            "Cloning into 'Pointnet2.ScanNet'...\n",
            "remote: Enumerating objects: 106, done.\u001b[K\n",
            "remote: Counting objects: 100% (106/106), done.\u001b[K\n",
            "remote: Compressing objects: 100% (78/78), done.\u001b[K\n",
            "remote: Total 434 (delta 67), reused 54 (delta 28), pack-reused 328\u001b[K\n",
            "Receiving objects: 100% (434/434), 12.16 MiB | 18.29 MiB/s, done.\n",
            "Resolving deltas: 100% (251/251), done.\n"
          ],
          "name": "stdout"
        }
      ]
    },
    {
      "cell_type": "markdown",
      "metadata": {
        "id": "tiCsMVj5EIck",
        "colab_type": "text"
      },
      "source": [
        "## Define torch version and build torch lib"
      ]
    },
    {
      "cell_type": "code",
      "metadata": {
        "id": "AGXBdG9ilTCZ",
        "colab_type": "code",
        "outputId": "8adc6464-4bdb-4ba5-d0d7-088d5cee60da",
        "colab": {
          "base_uri": "https://localhost:8080/",
          "height": 208
        }
      },
      "source": [
        "!pip install torch==1.0.0"
      ],
      "execution_count": 1,
      "outputs": [
        {
          "output_type": "stream",
          "text": [
            "Collecting torch==1.0.0\n",
            "\u001b[?25l  Downloading https://files.pythonhosted.org/packages/7e/60/66415660aa46b23b5e1b72bc762e816736ce8d7260213e22365af51e8f9c/torch-1.0.0-cp36-cp36m-manylinux1_x86_64.whl (591.8MB)\n",
            "\u001b[K     |████████████████████████████████| 591.8MB 24kB/s \n",
            "\u001b[31mERROR: torchvision 0.6.0+cu101 has requirement torch==1.5.0, but you'll have torch 1.0.0 which is incompatible.\u001b[0m\n",
            "\u001b[?25hInstalling collected packages: torch\n",
            "  Found existing installation: torch 1.5.0+cu101\n",
            "    Uninstalling torch-1.5.0+cu101:\n",
            "      Successfully uninstalled torch-1.5.0+cu101\n",
            "Successfully installed torch-1.0.0\n"
          ],
          "name": "stdout"
        }
      ]
    },
    {
      "cell_type": "code",
      "metadata": {
        "id": "gW1cQ2l9CbUx",
        "colab_type": "code",
        "outputId": "2799d38f-ab70-4751-fdee-12cba77885dd",
        "colab": {
          "base_uri": "https://localhost:8080/",
          "height": 1000
        }
      },
      "source": [
        "\n",
        "!ln -s /tensorflow-1.15.2/python3.6/tensorflow_core/libtensorflow_framework.so.1 /tensorflow-1.15.2/python3.6/tensorflow_core/libtensorflow_framework.so\n",
        "import os\n",
        "os.chdir('/content/Pointnet2.ScanNet/pointnet2')\n",
        "!python setup.py install"
      ],
      "execution_count": 4,
      "outputs": [
        {
          "output_type": "stream",
          "text": [
            "ln: failed to create symbolic link '/tensorflow-1.15.2/python3.6/tensorflow_core/libtensorflow_framework.so': File exists\n",
            "running install\n",
            "running bdist_egg\n",
            "running egg_info\n",
            "creating pointnet2.egg-info\n",
            "writing pointnet2.egg-info/PKG-INFO\n",
            "writing dependency_links to pointnet2.egg-info/dependency_links.txt\n",
            "writing top-level names to pointnet2.egg-info/top_level.txt\n",
            "writing manifest file 'pointnet2.egg-info/SOURCES.txt'\n",
            "writing manifest file 'pointnet2.egg-info/SOURCES.txt'\n",
            "installing library code to build/bdist.linux-x86_64/egg\n",
            "running install_lib\n",
            "running build_ext\n",
            "building 'pointnet2_cuda' extension\n",
            "creating build\n",
            "creating build/temp.linux-x86_64-3.6\n",
            "creating build/temp.linux-x86_64-3.6/src\n",
            "x86_64-linux-gnu-gcc -pthread -DNDEBUG -g -fwrapv -O2 -Wall -g -fstack-protector-strong -Wformat -Werror=format-security -Wdate-time -D_FORTIFY_SOURCE=2 -fPIC -I/usr/local/lib/python3.6/dist-packages/torch/lib/include -I/usr/local/lib/python3.6/dist-packages/torch/lib/include/torch/csrc/api/include -I/usr/local/lib/python3.6/dist-packages/torch/lib/include/TH -I/usr/local/lib/python3.6/dist-packages/torch/lib/include/THC -I/usr/local/cuda/include -I/usr/include/python3.6m -c src/pointnet2_api.cpp -o build/temp.linux-x86_64-3.6/src/pointnet2_api.o -g -DTORCH_API_INCLUDE_EXTENSION_H -DTORCH_EXTENSION_NAME=pointnet2_cuda -D_GLIBCXX_USE_CXX11_ABI=0 -std=c++11\n",
            "x86_64-linux-gnu-gcc -pthread -DNDEBUG -g -fwrapv -O2 -Wall -g -fstack-protector-strong -Wformat -Werror=format-security -Wdate-time -D_FORTIFY_SOURCE=2 -fPIC -I/usr/local/lib/python3.6/dist-packages/torch/lib/include -I/usr/local/lib/python3.6/dist-packages/torch/lib/include/torch/csrc/api/include -I/usr/local/lib/python3.6/dist-packages/torch/lib/include/TH -I/usr/local/lib/python3.6/dist-packages/torch/lib/include/THC -I/usr/local/cuda/include -I/usr/include/python3.6m -c src/ball_query.cpp -o build/temp.linux-x86_64-3.6/src/ball_query.o -g -DTORCH_API_INCLUDE_EXTENSION_H -DTORCH_EXTENSION_NAME=pointnet2_cuda -D_GLIBCXX_USE_CXX11_ABI=0 -std=c++11\n",
            "/usr/local/cuda/bin/nvcc -I/usr/local/lib/python3.6/dist-packages/torch/lib/include -I/usr/local/lib/python3.6/dist-packages/torch/lib/include/torch/csrc/api/include -I/usr/local/lib/python3.6/dist-packages/torch/lib/include/TH -I/usr/local/lib/python3.6/dist-packages/torch/lib/include/THC -I/usr/local/cuda/include -I/usr/include/python3.6m -c src/ball_query_gpu.cu -o build/temp.linux-x86_64-3.6/src/ball_query_gpu.o -D__CUDA_NO_HALF_OPERATORS__ -D__CUDA_NO_HALF_CONVERSIONS__ -D__CUDA_NO_HALF2_OPERATORS__ --compiler-options '-fPIC' -O2 -DTORCH_API_INCLUDE_EXTENSION_H -DTORCH_EXTENSION_NAME=pointnet2_cuda -D_GLIBCXX_USE_CXX11_ABI=0 -std=c++11\n",
            "x86_64-linux-gnu-gcc -pthread -DNDEBUG -g -fwrapv -O2 -Wall -g -fstack-protector-strong -Wformat -Werror=format-security -Wdate-time -D_FORTIFY_SOURCE=2 -fPIC -I/usr/local/lib/python3.6/dist-packages/torch/lib/include -I/usr/local/lib/python3.6/dist-packages/torch/lib/include/torch/csrc/api/include -I/usr/local/lib/python3.6/dist-packages/torch/lib/include/TH -I/usr/local/lib/python3.6/dist-packages/torch/lib/include/THC -I/usr/local/cuda/include -I/usr/include/python3.6m -c src/group_points.cpp -o build/temp.linux-x86_64-3.6/src/group_points.o -g -DTORCH_API_INCLUDE_EXTENSION_H -DTORCH_EXTENSION_NAME=pointnet2_cuda -D_GLIBCXX_USE_CXX11_ABI=0 -std=c++11\n",
            "/usr/local/cuda/bin/nvcc -I/usr/local/lib/python3.6/dist-packages/torch/lib/include -I/usr/local/lib/python3.6/dist-packages/torch/lib/include/torch/csrc/api/include -I/usr/local/lib/python3.6/dist-packages/torch/lib/include/TH -I/usr/local/lib/python3.6/dist-packages/torch/lib/include/THC -I/usr/local/cuda/include -I/usr/include/python3.6m -c src/group_points_gpu.cu -o build/temp.linux-x86_64-3.6/src/group_points_gpu.o -D__CUDA_NO_HALF_OPERATORS__ -D__CUDA_NO_HALF_CONVERSIONS__ -D__CUDA_NO_HALF2_OPERATORS__ --compiler-options '-fPIC' -O2 -DTORCH_API_INCLUDE_EXTENSION_H -DTORCH_EXTENSION_NAME=pointnet2_cuda -D_GLIBCXX_USE_CXX11_ABI=0 -std=c++11\n",
            "x86_64-linux-gnu-gcc -pthread -DNDEBUG -g -fwrapv -O2 -Wall -g -fstack-protector-strong -Wformat -Werror=format-security -Wdate-time -D_FORTIFY_SOURCE=2 -fPIC -I/usr/local/lib/python3.6/dist-packages/torch/lib/include -I/usr/local/lib/python3.6/dist-packages/torch/lib/include/torch/csrc/api/include -I/usr/local/lib/python3.6/dist-packages/torch/lib/include/TH -I/usr/local/lib/python3.6/dist-packages/torch/lib/include/THC -I/usr/local/cuda/include -I/usr/include/python3.6m -c src/interpolate.cpp -o build/temp.linux-x86_64-3.6/src/interpolate.o -g -DTORCH_API_INCLUDE_EXTENSION_H -DTORCH_EXTENSION_NAME=pointnet2_cuda -D_GLIBCXX_USE_CXX11_ABI=0 -std=c++11\n",
            "/usr/local/cuda/bin/nvcc -I/usr/local/lib/python3.6/dist-packages/torch/lib/include -I/usr/local/lib/python3.6/dist-packages/torch/lib/include/torch/csrc/api/include -I/usr/local/lib/python3.6/dist-packages/torch/lib/include/TH -I/usr/local/lib/python3.6/dist-packages/torch/lib/include/THC -I/usr/local/cuda/include -I/usr/include/python3.6m -c src/interpolate_gpu.cu -o build/temp.linux-x86_64-3.6/src/interpolate_gpu.o -D__CUDA_NO_HALF_OPERATORS__ -D__CUDA_NO_HALF_CONVERSIONS__ -D__CUDA_NO_HALF2_OPERATORS__ --compiler-options '-fPIC' -O2 -DTORCH_API_INCLUDE_EXTENSION_H -DTORCH_EXTENSION_NAME=pointnet2_cuda -D_GLIBCXX_USE_CXX11_ABI=0 -std=c++11\n",
            "x86_64-linux-gnu-gcc -pthread -DNDEBUG -g -fwrapv -O2 -Wall -g -fstack-protector-strong -Wformat -Werror=format-security -Wdate-time -D_FORTIFY_SOURCE=2 -fPIC -I/usr/local/lib/python3.6/dist-packages/torch/lib/include -I/usr/local/lib/python3.6/dist-packages/torch/lib/include/torch/csrc/api/include -I/usr/local/lib/python3.6/dist-packages/torch/lib/include/TH -I/usr/local/lib/python3.6/dist-packages/torch/lib/include/THC -I/usr/local/cuda/include -I/usr/include/python3.6m -c src/sampling.cpp -o build/temp.linux-x86_64-3.6/src/sampling.o -g -DTORCH_API_INCLUDE_EXTENSION_H -DTORCH_EXTENSION_NAME=pointnet2_cuda -D_GLIBCXX_USE_CXX11_ABI=0 -std=c++11\n",
            "/usr/local/cuda/bin/nvcc -I/usr/local/lib/python3.6/dist-packages/torch/lib/include -I/usr/local/lib/python3.6/dist-packages/torch/lib/include/torch/csrc/api/include -I/usr/local/lib/python3.6/dist-packages/torch/lib/include/TH -I/usr/local/lib/python3.6/dist-packages/torch/lib/include/THC -I/usr/local/cuda/include -I/usr/include/python3.6m -c src/sampling_gpu.cu -o build/temp.linux-x86_64-3.6/src/sampling_gpu.o -D__CUDA_NO_HALF_OPERATORS__ -D__CUDA_NO_HALF_CONVERSIONS__ -D__CUDA_NO_HALF2_OPERATORS__ --compiler-options '-fPIC' -O2 -DTORCH_API_INCLUDE_EXTENSION_H -DTORCH_EXTENSION_NAME=pointnet2_cuda -D_GLIBCXX_USE_CXX11_ABI=0 -std=c++11\n",
            "creating build/lib.linux-x86_64-3.6\n",
            "x86_64-linux-gnu-g++ -pthread -shared -Wl,-O1 -Wl,-Bsymbolic-functions -Wl,-Bsymbolic-functions -Wl,-z,relro -Wl,-Bsymbolic-functions -Wl,-z,relro -g -fstack-protector-strong -Wformat -Werror=format-security -Wdate-time -D_FORTIFY_SOURCE=2 build/temp.linux-x86_64-3.6/src/pointnet2_api.o build/temp.linux-x86_64-3.6/src/ball_query.o build/temp.linux-x86_64-3.6/src/ball_query_gpu.o build/temp.linux-x86_64-3.6/src/group_points.o build/temp.linux-x86_64-3.6/src/group_points_gpu.o build/temp.linux-x86_64-3.6/src/interpolate.o build/temp.linux-x86_64-3.6/src/interpolate_gpu.o build/temp.linux-x86_64-3.6/src/sampling.o build/temp.linux-x86_64-3.6/src/sampling_gpu.o -L/usr/local/cuda/lib64 -lcudart -o build/lib.linux-x86_64-3.6/pointnet2_cuda.cpython-36m-x86_64-linux-gnu.so\n",
            "creating build/bdist.linux-x86_64\n",
            "creating build/bdist.linux-x86_64/egg\n",
            "copying build/lib.linux-x86_64-3.6/pointnet2_cuda.cpython-36m-x86_64-linux-gnu.so -> build/bdist.linux-x86_64/egg\n",
            "creating stub loader for pointnet2_cuda.cpython-36m-x86_64-linux-gnu.so\n",
            "byte-compiling build/bdist.linux-x86_64/egg/pointnet2_cuda.py to pointnet2_cuda.cpython-36.pyc\n",
            "creating build/bdist.linux-x86_64/egg/EGG-INFO\n",
            "copying pointnet2.egg-info/PKG-INFO -> build/bdist.linux-x86_64/egg/EGG-INFO\n",
            "copying pointnet2.egg-info/SOURCES.txt -> build/bdist.linux-x86_64/egg/EGG-INFO\n",
            "copying pointnet2.egg-info/dependency_links.txt -> build/bdist.linux-x86_64/egg/EGG-INFO\n",
            "copying pointnet2.egg-info/top_level.txt -> build/bdist.linux-x86_64/egg/EGG-INFO\n",
            "writing build/bdist.linux-x86_64/egg/EGG-INFO/native_libs.txt\n",
            "zip_safe flag not set; analyzing archive contents...\n",
            "__pycache__.pointnet2_cuda.cpython-36: module references __file__\n",
            "creating dist\n",
            "creating 'dist/pointnet2-0.0.0-py3.6-linux-x86_64.egg' and adding 'build/bdist.linux-x86_64/egg' to it\n",
            "removing 'build/bdist.linux-x86_64/egg' (and everything under it)\n",
            "Processing pointnet2-0.0.0-py3.6-linux-x86_64.egg\n",
            "creating /usr/local/lib/python3.6/dist-packages/pointnet2-0.0.0-py3.6-linux-x86_64.egg\n",
            "Extracting pointnet2-0.0.0-py3.6-linux-x86_64.egg to /usr/local/lib/python3.6/dist-packages\n",
            "Adding pointnet2 0.0.0 to easy-install.pth file\n",
            "\n",
            "Installed /usr/local/lib/python3.6/dist-packages/pointnet2-0.0.0-py3.6-linux-x86_64.egg\n",
            "Processing dependencies for pointnet2==0.0.0\n",
            "Finished processing dependencies for pointnet2==0.0.0\n"
          ],
          "name": "stdout"
        }
      ]
    },
    {
      "cell_type": "markdown",
      "metadata": {
        "id": "qvNLD7sYERmh",
        "colab_type": "text"
      },
      "source": [
        "## Download pretrained models"
      ]
    },
    {
      "cell_type": "code",
      "metadata": {
        "id": "-evJvjid6Fl1",
        "colab_type": "code",
        "outputId": "abf349f9-6aa7-4f46-df2c-53bca08164e2",
        "colab": {
          "base_uri": "https://localhost:8080/",
          "height": 798
        }
      },
      "source": [
        "#Download pretrained models\n",
        "import os\n",
        "!mkdir /content/Pointnet2.ScanNet/models\n",
        "os.chdir('/content/Pointnet2.ScanNet/models')\n",
        "!wget \"https://www.dropbox.com/s/3cokg7ediutei1d/pointnet2_semseg_msg_xyzrgb.pth?dl=1\" -O \"pointnet2_semseg_msg_xyzrgb.pth\"\n",
        "!wget \"https://www.dropbox.com/s/wunli6uxqf2llor/pointnet2_semseg_ssg_xyzrgb.pth?dl=1\" -O \"pointnet2_semseg_ssg_xyzrgb.pth\""
      ],
      "execution_count": 5,
      "outputs": [
        {
          "output_type": "stream",
          "text": [
            "--2020-05-04 13:28:06--  https://www.dropbox.com/s/3cokg7ediutei1d/pointnet2_semseg_msg_xyzrgb.pth?dl=1\n",
            "Resolving www.dropbox.com (www.dropbox.com)... 162.125.1.1, 2620:100:6016:1::a27d:101\n",
            "Connecting to www.dropbox.com (www.dropbox.com)|162.125.1.1|:443... connected.\n",
            "HTTP request sent, awaiting response... 301 Moved Permanently\n",
            "Location: /s/dl/3cokg7ediutei1d/pointnet2_semseg_msg_xyzrgb.pth [following]\n",
            "--2020-05-04 13:28:06--  https://www.dropbox.com/s/dl/3cokg7ediutei1d/pointnet2_semseg_msg_xyzrgb.pth\n",
            "Reusing existing connection to www.dropbox.com:443.\n",
            "HTTP request sent, awaiting response... 302 Found\n",
            "Location: https://ucfec88a241822b2f86d3adcf9dc.dl.dropboxusercontent.com/cd/0/get/A3HT7QEmmiwaaCOTpXjZlGWJPockJKBPPrPTL-NeCeJ0NpDEiAouU-aoRRoXTTI0E8cKa_Gb-4nAG7qvpFzGqNwxqC18JFV69Pek19crG0je6oGtWS1tI9XnzqUPfq8hxR8/file?dl=1# [following]\n",
            "--2020-05-04 13:28:06--  https://ucfec88a241822b2f86d3adcf9dc.dl.dropboxusercontent.com/cd/0/get/A3HT7QEmmiwaaCOTpXjZlGWJPockJKBPPrPTL-NeCeJ0NpDEiAouU-aoRRoXTTI0E8cKa_Gb-4nAG7qvpFzGqNwxqC18JFV69Pek19crG0je6oGtWS1tI9XnzqUPfq8hxR8/file?dl=1\n",
            "Resolving ucfec88a241822b2f86d3adcf9dc.dl.dropboxusercontent.com (ucfec88a241822b2f86d3adcf9dc.dl.dropboxusercontent.com)... 162.125.8.6, 2620:100:601b:6::a27d:806\n",
            "Connecting to ucfec88a241822b2f86d3adcf9dc.dl.dropboxusercontent.com (ucfec88a241822b2f86d3adcf9dc.dl.dropboxusercontent.com)|162.125.8.6|:443... connected.\n",
            "HTTP request sent, awaiting response... 200 OK\n",
            "Length: 12214334 (12M) [application/binary]\n",
            "Saving to: ‘pointnet2_semseg_msg_xyzrgb.pth’\n",
            "\n",
            "pointnet2_semseg_ms 100%[===================>]  11.65M  28.8MB/s    in 0.4s    \n",
            "\n",
            "2020-05-04 13:28:07 (28.8 MB/s) - ‘pointnet2_semseg_msg_xyzrgb.pth’ saved [12214334/12214334]\n",
            "\n",
            "--2020-05-04 13:28:08--  https://www.dropbox.com/s/wunli6uxqf2llor/pointnet2_semseg_ssg_xyzrgb.pth?dl=1\n",
            "Resolving www.dropbox.com (www.dropbox.com)... 162.125.1.1, 2620:100:6016:1::a27d:101\n",
            "Connecting to www.dropbox.com (www.dropbox.com)|162.125.1.1|:443... connected.\n",
            "HTTP request sent, awaiting response... 301 Moved Permanently\n",
            "Location: /s/dl/wunli6uxqf2llor/pointnet2_semseg_ssg_xyzrgb.pth [following]\n",
            "--2020-05-04 13:28:08--  https://www.dropbox.com/s/dl/wunli6uxqf2llor/pointnet2_semseg_ssg_xyzrgb.pth\n",
            "Reusing existing connection to www.dropbox.com:443.\n",
            "HTTP request sent, awaiting response... 302 Found\n",
            "Location: https://uc3a54f82a5ff546b256c09d2231.dl.dropboxusercontent.com/cd/0/get/A3GTJAYqUc1b5APhEpoZUtM5JfHqh6v3MCQFeD5V1uFIaaE4YlGE6hjX4SnAN9E4ZUu403Fxsul2jcNEryKlHS4dIlbknqQmi7kvC28z8H4CvjgiIR80VJzEL02_gR1epaQ/file?dl=1# [following]\n",
            "--2020-05-04 13:28:09--  https://uc3a54f82a5ff546b256c09d2231.dl.dropboxusercontent.com/cd/0/get/A3GTJAYqUc1b5APhEpoZUtM5JfHqh6v3MCQFeD5V1uFIaaE4YlGE6hjX4SnAN9E4ZUu403Fxsul2jcNEryKlHS4dIlbknqQmi7kvC28z8H4CvjgiIR80VJzEL02_gR1epaQ/file?dl=1\n",
            "Resolving uc3a54f82a5ff546b256c09d2231.dl.dropboxusercontent.com (uc3a54f82a5ff546b256c09d2231.dl.dropboxusercontent.com)... 162.125.8.6, 2620:100:6016:6::a27d:106\n",
            "Connecting to uc3a54f82a5ff546b256c09d2231.dl.dropboxusercontent.com (uc3a54f82a5ff546b256c09d2231.dl.dropboxusercontent.com)|162.125.8.6|:443... connected.\n",
            "HTTP request sent, awaiting response... 200 OK\n",
            "Length: 3857674 (3.7M) [application/binary]\n",
            "Saving to: ‘pointnet2_semseg_ssg_xyzrgb.pth’\n",
            "\n",
            "pointnet2_semseg_ss 100%[===================>]   3.68M  11.9MB/s    in 0.3s    \n",
            "\n",
            "2020-05-04 13:28:09 (11.9 MB/s) - ‘pointnet2_semseg_ssg_xyzrgb.pth’ saved [3857674/3857674]\n",
            "\n"
          ],
          "name": "stdout"
        }
      ]
    },
    {
      "cell_type": "markdown",
      "metadata": {
        "id": "SOEr7ap3Ay4l",
        "colab_type": "text"
      },
      "source": [
        "## Setup config file"
      ]
    },
    {
      "cell_type": "code",
      "metadata": {
        "id": "EKYaX2Vi9x2-",
        "colab_type": "code",
        "outputId": "9aaa968d-127e-452a-8764-6f6d6bdec832",
        "colab": {
          "base_uri": "https://localhost:8080/",
          "height": 322
        }
      },
      "source": [
        "!apt-get install rpl"
      ],
      "execution_count": 6,
      "outputs": [
        {
          "output_type": "stream",
          "text": [
            "Reading package lists... Done\n",
            "Building dependency tree       \n",
            "Reading state information... Done\n",
            "The following NEW packages will be installed:\n",
            "  rpl\n",
            "0 upgraded, 1 newly installed, 0 to remove and 25 not upgraded.\n",
            "Need to get 8,510 B of archives.\n",
            "After this operation, 34.8 kB of additional disk space will be used.\n",
            "Get:1 http://archive.ubuntu.com/ubuntu bionic/universe amd64 rpl all 1.5.7-1 [8,510 B]\n",
            "Fetched 8,510 B in 0s (26.9 kB/s)\n",
            "Selecting previously unselected package rpl.\n",
            "(Reading database ... 144568 files and directories currently installed.)\n",
            "Preparing to unpack .../archives/rpl_1.5.7-1_all.deb ...\n",
            "Unpacking rpl (1.5.7-1) ...\n",
            "Setting up rpl (1.5.7-1) ...\n",
            "Processing triggers for man-db (2.8.3-2ubuntu0.1) ...\n"
          ],
          "name": "stdout"
        }
      ]
    },
    {
      "cell_type": "code",
      "metadata": {
        "id": "Fuoo6ZATA2xp",
        "colab_type": "code",
        "outputId": "1edc7a70-e810-472a-811a-edc8fd4ccdfe",
        "colab": {
          "base_uri": "https://localhost:8080/",
          "height": 323
        }
      },
      "source": [
        "!cp \"/content/Pointnet2.ScanNet/lib/config.py\" \"/content/Pointnet2.ScanNet/lib/config.py.back\"\n",
        "#Replace config.py text\n",
        "!rpl \"/home/davech2y/Pointnet2.ScanNet\" \"/content/Pointnet2.ScanNet\" \"/content/Pointnet2.ScanNet/lib/config.py\" \n",
        "!rpl \"/mnt/canis/Datasets/ScanNet/public/v2/scans\" \"/content/Pointnet2.ScanNet/scans\" \"/content/Pointnet2.ScanNet/lib/config.py\" \n",
        "!rpl \"/home/davech2y/frames_square/\" \"/content/Pointnet2.ScanNet/frames_square/\" \"/content/Pointnet2.ScanNet/lib/config.py\" \n",
        "!rpl \"/home/davech2y/multiview_projection_pointnet\" \"/content/Pointnet2.ScanNet/multiview_projection_pointnet\" \"/content/Pointnet2.ScanNet/lib/config.py\" \n",
        "!rpl \"/home/davech2y/enet_features\" \"/content/Pointnet2.ScanNet/enet_features\" \"/content/Pointnet2.ScanNet/lib/config.py\" \n",
        "\n",
        "!mkdir \"/content/Pointnet2.ScanNet/scans\"\n",
        "!mkdir \"/content/Pointnet2.ScanNet/frames_square/\"\n",
        "!mkdir \"/content/Pointnet2.ScanNet/multiview_projection_pointnet\" \n",
        "!mkdir \"/content/Pointnet2.ScanNet/enet_features\" "
      ],
      "execution_count": 7,
      "outputs": [
        {
          "output_type": "stream",
          "text": [
            "Replacing \"/home/davech2y/Pointnet2.ScanNet\" with \"/content/Pointnet2.ScanNet\" (case sensitive) (partial words matched)\n",
            ".\n",
            "A Total of 1 matches replaced in 1 file searched.\n",
            "Replacing \"/mnt/canis/Datasets/ScanNet/public/v2/scans\" with \"/content/Pointnet2.ScanNet/scans\" (case sensitive) (partial words matched)\n",
            ".\n",
            "A Total of 1 matches replaced in 1 file searched.\n",
            "Replacing \"/home/davech2y/frames_square/\" with \"/content/Pointnet2.ScanNet/frames_square/\" (case sensitive) (partial words matched)\n",
            ".\n",
            "A Total of 1 matches replaced in 1 file searched.\n",
            "Replacing \"/home/davech2y/multiview_projection_pointnet\" with \"/content/Pointnet2.ScanNet/multiview_projection_pointnet\" (case sensitive) (partial words matched)\n",
            ".\n",
            "A Total of 1 matches replaced in 1 file searched.\n",
            "Replacing \"/home/davech2y/enet_features\" with \"/content/Pointnet2.ScanNet/enet_features\" (case sensitive) (partial words matched)\n",
            ".\n",
            "A Total of 1 matches replaced in 1 file searched.\n"
          ],
          "name": "stdout"
        }
      ]
    },
    {
      "cell_type": "markdown",
      "metadata": {
        "id": "EyFi4nPF9T8A",
        "colab_type": "text"
      },
      "source": [
        "## Process data"
      ]
    },
    {
      "cell_type": "code",
      "metadata": {
        "id": "5BfcYRcfEl7I",
        "colab_type": "code",
        "outputId": "6e5e0fcd-9db3-4d16-b29e-dca469699bc2",
        "colab": {
          "base_uri": "https://localhost:8080/",
          "height": 151
        }
      },
      "source": [
        "!pip install plyfile\n",
        "!pip install easydict"
      ],
      "execution_count": 8,
      "outputs": [
        {
          "output_type": "stream",
          "text": [
            "Collecting plyfile\n",
            "  Downloading https://files.pythonhosted.org/packages/93/c8/cf47848cd4d661850e4a8e7f0fc4f7298515e06d0da7255ed08e5312d4aa/plyfile-0.7.2-py3-none-any.whl\n",
            "Requirement already satisfied: numpy>=1.8 in /usr/local/lib/python3.6/dist-packages (from plyfile) (1.18.3)\n",
            "Installing collected packages: plyfile\n",
            "Successfully installed plyfile-0.7.2\n",
            "Requirement already satisfied: easydict in /usr/local/lib/python3.6/dist-packages (1.9)\n"
          ],
          "name": "stdout"
        }
      ]
    },
    {
      "cell_type": "code",
      "metadata": {
        "id": "W9lvflrJDzUy",
        "colab_type": "code",
        "colab": {
          "base_uri": "https://localhost:8080/",
          "height": 1000
        },
        "outputId": "032ff880-8c32-4f4a-85a6-419694091d21"
      },
      "source": [
        "!mkdir '/content/Pointnet2.ScanNet/scans/export3-Cloud'\n",
        "import os\n",
        "os.chdir( '/content/Pointnet2.ScanNet/scans/export3-Cloud')\n",
        "\n",
        "!wget \"https://www.dropbox.com/s/uraw0uold7d9diy/export3-Cloud.ply?dl=0\" -O \"export3-Cloud_vh_clean_2.ply\"\n",
        "\n",
        "!wget 'https://www.dropbox.com/s/hn7ix6vjwheq6kg/export3-Clouds_vh_clean_2.0.010000.segs.json?dl=1' -O \"export3-Cloud_vh_clean_2.0.010000.segs.json\"\n",
        "!wget 'https://www.dropbox.com/s/nmnvo9iv95spehv/export3-Cloud_vh_clean.aggregation.json?dl=1' -O \"export3-Cloud_vh_clean.aggregation.json\""
      ],
      "execution_count": 9,
      "outputs": [
        {
          "output_type": "stream",
          "text": [
            "--2020-05-04 13:28:40--  https://www.dropbox.com/s/uraw0uold7d9diy/export3-Cloud.ply?dl=0\n",
            "Resolving www.dropbox.com (www.dropbox.com)... 162.125.8.1, 2620:100:601b:1::a27d:801\n",
            "Connecting to www.dropbox.com (www.dropbox.com)|162.125.8.1|:443... connected.\n",
            "HTTP request sent, awaiting response... 301 Moved Permanently\n",
            "Location: /s/raw/uraw0uold7d9diy/export3-Cloud.ply [following]\n",
            "--2020-05-04 13:28:41--  https://www.dropbox.com/s/raw/uraw0uold7d9diy/export3-Cloud.ply\n",
            "Reusing existing connection to www.dropbox.com:443.\n",
            "HTTP request sent, awaiting response... 302 Found\n",
            "Location: https://uc1faf4aba72e38688f1d845048c.dl.dropboxusercontent.com/cd/0/inline/A3GPY3e3Vhipff-GsCvLqRFxyPwe1dm1egBkTBdtaHgorr58DYuFnIRS8CxjWq5tQWLyznKTlbsee-hNQ1tWs8-vmSmspsB_DW-Fi89ZmI1EAQI4uBNHVRtSCAYq1VC5DAA/file# [following]\n",
            "--2020-05-04 13:28:41--  https://uc1faf4aba72e38688f1d845048c.dl.dropboxusercontent.com/cd/0/inline/A3GPY3e3Vhipff-GsCvLqRFxyPwe1dm1egBkTBdtaHgorr58DYuFnIRS8CxjWq5tQWLyznKTlbsee-hNQ1tWs8-vmSmspsB_DW-Fi89ZmI1EAQI4uBNHVRtSCAYq1VC5DAA/file\n",
            "Resolving uc1faf4aba72e38688f1d845048c.dl.dropboxusercontent.com (uc1faf4aba72e38688f1d845048c.dl.dropboxusercontent.com)... 162.125.8.6, 2620:100:6016:6::a27d:106\n",
            "Connecting to uc1faf4aba72e38688f1d845048c.dl.dropboxusercontent.com (uc1faf4aba72e38688f1d845048c.dl.dropboxusercontent.com)|162.125.8.6|:443... connected.\n",
            "HTTP request sent, awaiting response... 200 OK\n",
            "Length: 837631 (818K) [text/plain]\n",
            "Saving to: ‘export3-Cloud_vh_clean_2.ply’\n",
            "\n",
            "export3-Cloud_vh_cl 100%[===================>] 818.00K  3.67MB/s    in 0.2s    \n",
            "\n",
            "2020-05-04 13:28:42 (3.67 MB/s) - ‘export3-Cloud_vh_clean_2.ply’ saved [837631/837631]\n",
            "\n",
            "--2020-05-04 13:28:42--  https://www.dropbox.com/s/hn7ix6vjwheq6kg/export3-Clouds_vh_clean_2.0.010000.segs.json?dl=1\n",
            "Resolving www.dropbox.com (www.dropbox.com)... 162.125.8.1, 2620:100:601b:1::a27d:801\n",
            "Connecting to www.dropbox.com (www.dropbox.com)|162.125.8.1|:443... connected.\n",
            "HTTP request sent, awaiting response... 301 Moved Permanently\n",
            "Location: /s/dl/hn7ix6vjwheq6kg/export3-Clouds_vh_clean_2.0.010000.segs.json [following]\n",
            "--2020-05-04 13:28:43--  https://www.dropbox.com/s/dl/hn7ix6vjwheq6kg/export3-Clouds_vh_clean_2.0.010000.segs.json\n",
            "Reusing existing connection to www.dropbox.com:443.\n",
            "HTTP request sent, awaiting response... 302 Found\n",
            "Location: https://uc9a65ed1f3fa1ad80ad056ad190.dl.dropboxusercontent.com/cd/0/get/A3HbCAFaruLvBkpeQ-wn509JN8qlwClCXuF4JRnUD1z_xVrOPRoP9WgeB27Kw-DBcxGLHlPe9y0NpDMCfzb6X8HzlB67lFRJr5_r40zxW1HWGeDJ3tsfpWSWIfwZr27rMH4/file?dl=1# [following]\n",
            "--2020-05-04 13:28:43--  https://uc9a65ed1f3fa1ad80ad056ad190.dl.dropboxusercontent.com/cd/0/get/A3HbCAFaruLvBkpeQ-wn509JN8qlwClCXuF4JRnUD1z_xVrOPRoP9WgeB27Kw-DBcxGLHlPe9y0NpDMCfzb6X8HzlB67lFRJr5_r40zxW1HWGeDJ3tsfpWSWIfwZr27rMH4/file?dl=1\n",
            "Resolving uc9a65ed1f3fa1ad80ad056ad190.dl.dropboxusercontent.com (uc9a65ed1f3fa1ad80ad056ad190.dl.dropboxusercontent.com)... 162.125.1.6, 2620:100:6016:6::a27d:106\n",
            "Connecting to uc9a65ed1f3fa1ad80ad056ad190.dl.dropboxusercontent.com (uc9a65ed1f3fa1ad80ad056ad190.dl.dropboxusercontent.com)|162.125.1.6|:443... connected.\n",
            "HTTP request sent, awaiting response... 200 OK\n",
            "Length: 247 [application/binary]\n",
            "Saving to: ‘export3-Cloud_vh_clean_2.0.010000.segs.json’\n",
            "\n",
            "export3-Cloud_vh_cl 100%[===================>]     247  --.-KB/s    in 0s      \n",
            "\n",
            "2020-05-04 13:28:43 (40.8 MB/s) - ‘export3-Cloud_vh_clean_2.0.010000.segs.json’ saved [247/247]\n",
            "\n",
            "--2020-05-04 13:28:44--  https://www.dropbox.com/s/nmnvo9iv95spehv/export3-Cloud_vh_clean.aggregation.json?dl=1\n",
            "Resolving www.dropbox.com (www.dropbox.com)... 162.125.8.1, 2620:100:601b:1::a27d:801\n",
            "Connecting to www.dropbox.com (www.dropbox.com)|162.125.8.1|:443... connected.\n",
            "HTTP request sent, awaiting response... 301 Moved Permanently\n",
            "Location: /s/dl/nmnvo9iv95spehv/export3-Cloud_vh_clean.aggregation.json [following]\n",
            "--2020-05-04 13:28:45--  https://www.dropbox.com/s/dl/nmnvo9iv95spehv/export3-Cloud_vh_clean.aggregation.json\n",
            "Reusing existing connection to www.dropbox.com:443.\n",
            "HTTP request sent, awaiting response... 302 Found\n",
            "Location: https://ucdab55f89adac71da281ff1d27e.dl.dropboxusercontent.com/cd/0/get/A3EpIlKm8u4lq6GZqx4YZPQxViNIvuQZw8--4qF9mWA-LoBLpknLt2BiiZ9cjPXRs2y4aRPQA18lOnKndqVKhV68pfc54ioUCNLTLMUb-VsoMuy6vvWkw26m7eCwpxeJ-kY/file?dl=1# [following]\n",
            "--2020-05-04 13:28:45--  https://ucdab55f89adac71da281ff1d27e.dl.dropboxusercontent.com/cd/0/get/A3EpIlKm8u4lq6GZqx4YZPQxViNIvuQZw8--4qF9mWA-LoBLpknLt2BiiZ9cjPXRs2y4aRPQA18lOnKndqVKhV68pfc54ioUCNLTLMUb-VsoMuy6vvWkw26m7eCwpxeJ-kY/file?dl=1\n",
            "Resolving ucdab55f89adac71da281ff1d27e.dl.dropboxusercontent.com (ucdab55f89adac71da281ff1d27e.dl.dropboxusercontent.com)... 162.125.1.6, 2620:100:6016:6::a27d:106\n",
            "Connecting to ucdab55f89adac71da281ff1d27e.dl.dropboxusercontent.com (ucdab55f89adac71da281ff1d27e.dl.dropboxusercontent.com)|162.125.1.6|:443... connected.\n",
            "HTTP request sent, awaiting response... 200 OK\n",
            "Length: 222 [application/binary]\n",
            "Saving to: ‘export3-Cloud_vh_clean.aggregation.json’\n",
            "\n",
            "export3-Cloud_vh_cl 100%[===================>]     222  --.-KB/s    in 0s      \n",
            "\n",
            "2020-05-04 13:28:45 (39.5 MB/s) - ‘export3-Cloud_vh_clean.aggregation.json’ saved [222/222]\n",
            "\n"
          ],
          "name": "stdout"
        }
      ]
    },
    {
      "cell_type": "markdown",
      "metadata": {
        "id": "p8YzrKgYsQqc",
        "colab_type": "text"
      },
      "source": [
        ""
      ]
    },
    {
      "cell_type": "code",
      "metadata": {
        "id": "tEl3A5Aw9MkK",
        "colab_type": "code",
        "outputId": "8d12c3c9-8529-42b6-bcb8-bae6039a9c6e",
        "colab": {
          "base_uri": "https://localhost:8080/",
          "height": 55
        }
      },
      "source": [
        "#TODO: make this process work :)\n",
        "import os\n",
        "os.chdir('/content/Pointnet2.ScanNet/')\n",
        "!python preprocessing/collect_scannet_scenes.py"
      ],
      "execution_count": 12,
      "outputs": [
        {
          "output_type": "stream",
          "text": [
            "export3-CloudERROR!! 'Wall'\n",
            "done!\n"
          ],
          "name": "stdout"
        }
      ]
    },
    {
      "cell_type": "markdown",
      "metadata": {
        "id": "rvgda7w58JAS",
        "colab_type": "text"
      },
      "source": [
        "## Eval"
      ]
    },
    {
      "cell_type": "code",
      "metadata": {
        "id": "f_vF9c0N8CLt",
        "colab_type": "code",
        "outputId": "c67848f8-e485-4ada-a62f-98ff5dd37533",
        "colab": {
          "base_uri": "https://localhost:8080/",
          "height": 93
        }
      },
      "source": [
        "import os\n",
        "os.chdir('/content/Pointnet2.ScanNet/scripts')\n",
        "\n",
        "#TODO: put own point cloud data in /content/Pointnet2.ScanNet/data\n",
        "!python eval.py --folder '/content/Pointnet2.ScanNet/models' "
      ],
      "execution_count": 10,
      "outputs": [
        {
          "output_type": "stream",
          "text": [
            "Traceback (most recent call last):\n",
            "  File \"eval.py\", line 13, in <module>\n",
            "    from lib.config import CONF\n",
            "ModuleNotFoundError: No module named 'lib'\n"
          ],
          "name": "stdout"
        }
      ]
    }
  ]
}